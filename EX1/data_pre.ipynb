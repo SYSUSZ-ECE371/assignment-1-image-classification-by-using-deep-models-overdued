{
 "cells": [
  {
   "cell_type": "code",
   "execution_count": 9,
   "metadata": {},
   "outputs": [
    {
     "name": "stdout",
     "output_type": "stream",
     "text": [
      "数据集准备完成！\n"
     ]
    }
   ],
   "source": [
    "import os  \n",
    "import zipfile  \n",
    "import shutil  \n",
    "import random  \n",
    "\n",
    "# 定义路径  \n",
    "zip_file_path = \"F:\\\\桌面\\\\大三下\\\\神经网络\\\\flower_dataset.zip\"  # 花卉数据集的压缩文件路径  \n",
    "extract_path = \"F:\\\\桌面\\\\大三下\\\\神经网络\\\\EX1\\\\flower_dataset\"       # 解压目录  \n",
    "train_path = os.path.join(extract_path, 'train')  \n",
    "val_path = os.path.join(extract_path, 'val')  \n",
    "classes_file_path = os.path.join(extract_path, 'classes.txt')  \n",
    "train_txt_path = os.path.join(extract_path, 'train.txt')  \n",
    "val_txt_path = os.path.join(extract_path, 'val.txt')  \n",
    "\n",
    "# 第一步：解压数据集  \n",
    "with zipfile.ZipFile(zip_file_path, 'r') as zip_ref:  \n",
    "    zip_ref.extractall(extract_path)  \n",
    "\n",
    "# 第二步：创建训练和验证目录  \n",
    "os.makedirs(train_path, exist_ok=True)  \n",
    "os.makedirs(val_path, exist_ok=True)  \n",
    "\n",
    "# 收集花卉类别  \n",
    "flower_categories = ['daisy', 'dandelion', 'rose', 'sunflower', 'tulip']  \n",
    "class_map = {}  \n",
    "\n",
    "# 第三步：将数据集分为训练集和验证集（80/20）  \n",
    "for category in flower_categories:  \n",
    "    # 创建类别目录  \n",
    "    os.makedirs(os.path.join(train_path, category), exist_ok=True)  \n",
    "    os.makedirs(os.path.join(val_path, category), exist_ok=True)  \n",
    "\n",
    "    # 获取当前类别下的所有图像文件  \n",
    "    images = [img for img in os.listdir(os.path.join(extract_path, category)) if img.endswith('.jpg')]  \n",
    "    random.shuffle(images)  \n",
    "\n",
    "    # 根据比例划分训练集和验证集  \n",
    "    split_index = int(len(images) * 0.8)  \n",
    "    train_images = images[:split_index]  \n",
    "    val_images = images[split_index:]  \n",
    "\n",
    "    # 移动图像到相应目录  \n",
    "    for img in train_images:  \n",
    "        shutil.move(os.path.join(extract_path, category, img), os.path.join(train_path, category, img))  \n",
    "    for img in val_images:  \n",
    "        shutil.move(os.path.join(extract_path, category, img), os.path.join(val_path, category, img))  \n",
    "    \n",
    "    class_map[category] = len(class_map)  # 分配类别索引  \n",
    "\n",
    "# 第四步：将类别写入 classes.txt  \n",
    "with open(classes_file_path, 'w') as f:  \n",
    "    for category in flower_categories:  \n",
    "        f.write(f\"{category}\\n\")  \n",
    "\n",
    "# 第五步：生成注释列表  \n",
    "def generate_annotation_list(data_path, txt_path, classes):  \n",
    "    with open(txt_path, 'w') as f:  \n",
    "        for i, class_name in enumerate(classes):  \n",
    "            for img in os.listdir(os.path.join(data_path, class_name)):  \n",
    "                f.write(f\"{class_name}/{img} {i}\\n\")  \n",
    "\n",
    "generate_annotation_list(train_path, train_txt_path, flower_categories)  \n",
    "generate_annotation_list(val_path, val_txt_path, flower_categories)  \n",
    "\n",
    "print(\"数据集准备完成！\")  "
   ]
  }
 ],
 "metadata": {
  "kernelspec": {
   "display_name": "Python 3",
   "language": "python",
   "name": "python3"
  },
  "language_info": {
   "codemirror_mode": {
    "name": "ipython",
    "version": 3
   },
   "file_extension": ".py",
   "mimetype": "text/x-python",
   "name": "python",
   "nbconvert_exporter": "python",
   "pygments_lexer": "ipython3",
   "version": "3.8.20"
  }
 },
 "nbformat": 4,
 "nbformat_minor": 2
}
